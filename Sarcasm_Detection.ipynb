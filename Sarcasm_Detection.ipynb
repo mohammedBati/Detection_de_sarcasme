{
  "cells": [
    {
      "cell_type": "markdown",
      "id": "1d594716",
      "metadata": {
        "id": "1d594716"
      },
      "source": []
    },
    {
      "cell_type": "code",
      "source": [
        "from google.colab import drive\n",
        "drive.mount('/content/drive')"
      ],
      "metadata": {
        "colab": {
          "base_uri": "https://localhost:8080/"
        },
        "id": "46M9Bp1Y5hbE",
        "outputId": "3920eab0-ec75-4cdf-aff0-af66ceacf091"
      },
      "id": "46M9Bp1Y5hbE",
      "execution_count": null,
      "outputs": [
        {
          "output_type": "stream",
          "name": "stdout",
          "text": [
            "Mounted at /content/drive\n"
          ]
        }
      ]
    },
    {
      "cell_type": "markdown",
      "id": "d818488f",
      "metadata": {
        "id": "d818488f"
      },
      "source": [
        "![sarcasm2.jpg](attachment:sarcasm2.jpg)"
      ]
    },
    {
      "cell_type": "code",
      "execution_count": null,
      "id": "6ca767a8",
      "metadata": {
        "id": "6ca767a8"
      },
      "outputs": [],
      "source": [
        "import pandas as pd, numpy as np, re, time\n",
        "from nltk.stem.porter import PorterStemmer"
      ]
    },
    {
      "cell_type": "code",
      "execution_count": null,
      "id": "85b99cdf",
      "metadata": {
        "id": "85b99cdf"
      },
      "outputs": [],
      "source": [
        "from sklearn.model_selection import train_test_split\n",
        "from sklearn.metrics import confusion_matrix\n",
        "from sklearn.svm import LinearSVC\n",
        "from sklearn.model_selection import cross_val_score\n",
        "from sklearn.naive_bayes import GaussianNB\n",
        "from sklearn.linear_model import LogisticRegression\n",
        "from sklearn.ensemble import RandomForestClassifier\n",
        "import emoji\n",
        "import nltk\n",
        "import numpy as np\n",
        "import pandas as pd\n",
        "import seaborn as sns\n",
        "import matplotlib.pyplot as plt\n",
        "import nltk\n",
        "from sklearn.preprocessing import LabelBinarizer\n",
        "from nltk.corpus import stopwords\n",
        "from nltk.stem.porter import PorterStemmer\n",
        "#from wordcloud import WordCloud,STOPWORDS\n",
        "from nltk.stem import WordNetLemmatizer\n",
        "from nltk.tokenize import word_tokenize,sent_tokenize\n",
        "from bs4 import BeautifulSoup\n",
        "import re,string,unicodedata\n",
        "from tensorflow.keras.preprocessing import text, sequence\n",
        "from nltk.tokenize.toktok import ToktokTokenizer\n",
        "from sklearn.metrics import classification_report,confusion_matrix,accuracy_score\n",
        "from sklearn.model_selection import train_test_split\n",
        "from string import punctuation\n",
        "from nltk import pos_tag\n",
        "from nltk.corpus import wordnet\n",
        "import keras\n",
        "from keras.models import Sequential\n",
        "from keras.layers import Dense,Embedding,LSTM,Dropout,Flatten\n",
        "import tensorflow as tf\n",
        "from sklearn.metrics import f1_score, confusion_matrix, classification_report"
      ]
    },
    {
      "cell_type": "code",
      "execution_count": null,
      "id": "0ba66b6d",
      "metadata": {
        "id": "0ba66b6d",
        "outputId": "18d39b9d-7d68-499e-e708-5932bd3bc745"
      },
      "outputs": [
        {
          "data": {
            "text/html": [
              "<div>\n",
              "<style scoped>\n",
              "    .dataframe tbody tr th:only-of-type {\n",
              "        vertical-align: middle;\n",
              "    }\n",
              "\n",
              "    .dataframe tbody tr th {\n",
              "        vertical-align: top;\n",
              "    }\n",
              "\n",
              "    .dataframe thead th {\n",
              "        text-align: right;\n",
              "    }\n",
              "</style>\n",
              "<table border=\"1\" class=\"dataframe\">\n",
              "  <thead>\n",
              "    <tr style=\"text-align: right;\">\n",
              "      <th></th>\n",
              "      <th>Unnamed: 0</th>\n",
              "      <th>tweet</th>\n",
              "      <th>sarcastic</th>\n",
              "      <th>rephrase</th>\n",
              "      <th>sarcasm</th>\n",
              "      <th>irony</th>\n",
              "      <th>satire</th>\n",
              "      <th>understatement</th>\n",
              "      <th>overstatement</th>\n",
              "      <th>rhetorical_question</th>\n",
              "    </tr>\n",
              "  </thead>\n",
              "  <tbody>\n",
              "    <tr>\n",
              "      <th>0</th>\n",
              "      <td>0</td>\n",
              "      <td>The only thing I got from college is a caffein...</td>\n",
              "      <td>1</td>\n",
              "      <td>College is really difficult, expensive, tiring...</td>\n",
              "      <td>0.0</td>\n",
              "      <td>1.0</td>\n",
              "      <td>0.0</td>\n",
              "      <td>0.0</td>\n",
              "      <td>0.0</td>\n",
              "      <td>0.0</td>\n",
              "    </tr>\n",
              "    <tr>\n",
              "      <th>1</th>\n",
              "      <td>1</td>\n",
              "      <td>I love it when professors draw a big question ...</td>\n",
              "      <td>1</td>\n",
              "      <td>I do not like when professors don’t write out ...</td>\n",
              "      <td>1.0</td>\n",
              "      <td>0.0</td>\n",
              "      <td>0.0</td>\n",
              "      <td>0.0</td>\n",
              "      <td>0.0</td>\n",
              "      <td>0.0</td>\n",
              "    </tr>\n",
              "    <tr>\n",
              "      <th>2</th>\n",
              "      <td>2</td>\n",
              "      <td>Remember the hundred emails from companies whe...</td>\n",
              "      <td>1</td>\n",
              "      <td>I, at the bare minimum, wish companies actuall...</td>\n",
              "      <td>0.0</td>\n",
              "      <td>1.0</td>\n",
              "      <td>0.0</td>\n",
              "      <td>0.0</td>\n",
              "      <td>0.0</td>\n",
              "      <td>0.0</td>\n",
              "    </tr>\n",
              "    <tr>\n",
              "      <th>3</th>\n",
              "      <td>3</td>\n",
              "      <td>Today my pop-pop told me I was not “forced” to...</td>\n",
              "      <td>1</td>\n",
              "      <td>Today my pop-pop told me I was not \"forced\" to...</td>\n",
              "      <td>1.0</td>\n",
              "      <td>0.0</td>\n",
              "      <td>0.0</td>\n",
              "      <td>0.0</td>\n",
              "      <td>0.0</td>\n",
              "      <td>0.0</td>\n",
              "    </tr>\n",
              "    <tr>\n",
              "      <th>4</th>\n",
              "      <td>4</td>\n",
              "      <td>@VolphanCarol @littlewhitty @mysticalmanatee I...</td>\n",
              "      <td>1</td>\n",
              "      <td>I would say Ted Cruz is an asshole and doesn’t...</td>\n",
              "      <td>1.0</td>\n",
              "      <td>0.0</td>\n",
              "      <td>0.0</td>\n",
              "      <td>0.0</td>\n",
              "      <td>0.0</td>\n",
              "      <td>0.0</td>\n",
              "    </tr>\n",
              "  </tbody>\n",
              "</table>\n",
              "</div>"
            ],
            "text/plain": [
              "   Unnamed: 0                                              tweet  sarcastic  \\\n",
              "0           0  The only thing I got from college is a caffein...          1   \n",
              "1           1  I love it when professors draw a big question ...          1   \n",
              "2           2  Remember the hundred emails from companies whe...          1   \n",
              "3           3  Today my pop-pop told me I was not “forced” to...          1   \n",
              "4           4  @VolphanCarol @littlewhitty @mysticalmanatee I...          1   \n",
              "\n",
              "                                            rephrase  sarcasm  irony  satire  \\\n",
              "0  College is really difficult, expensive, tiring...      0.0    1.0     0.0   \n",
              "1  I do not like when professors don’t write out ...      1.0    0.0     0.0   \n",
              "2  I, at the bare minimum, wish companies actuall...      0.0    1.0     0.0   \n",
              "3  Today my pop-pop told me I was not \"forced\" to...      1.0    0.0     0.0   \n",
              "4  I would say Ted Cruz is an asshole and doesn’t...      1.0    0.0     0.0   \n",
              "\n",
              "   understatement  overstatement  rhetorical_question  \n",
              "0             0.0            0.0                  0.0  \n",
              "1             0.0            0.0                  0.0  \n",
              "2             0.0            0.0                  0.0  \n",
              "3             0.0            0.0                  0.0  \n",
              "4             0.0            0.0                  0.0  "
            ]
          },
          "execution_count": 334,
          "metadata": {},
          "output_type": "execute_result"
        }
      ],
      "source": [
        "data = pd.read_csv(\"/content/drive/MyDrive/Competition/Web Mining/Competition 1-december/English_data/train.En.csv\")\n",
        "data.head()"
      ]
    },
    {
      "cell_type": "markdown",
      "id": "ec955914",
      "metadata": {
        "id": "ec955914"
      },
      "source": [
        "# Extraire les labels et les données en question "
      ]
    },
    {
      "cell_type": "code",
      "execution_count": null,
      "id": "081b2073",
      "metadata": {
        "id": "081b2073"
      },
      "outputs": [],
      "source": [
        "data[\"tweet\"] = data[\"tweet\"].replace('!','')\n",
        "data[\"tweet\"] = data[\"tweet\"].replace('@','')\n",
        "data[\"tweet\"] = data[\"tweet\"].replace('\"','')\n",
        "data[\"tweet\"] = data[\"tweet\"].replace('?','')\n",
        "data[\"tweet\"] = data[\"tweet\"].replace('\\\"','')\n",
        "data[\"tweet\"] = data[\"tweet\"].replace('\\\\_(ツ)_/','')\n",
        "\n",
        "X= list(data[\"tweet\"])\n",
        "Y= np.array(list(data[\"sarcastic\"]))"
      ]
    },
    {
      "cell_type": "markdown",
      "id": "914a6972",
      "metadata": {
        "id": "914a6972"
      },
      "source": [
        "# Preprocessing"
      ]
    },
    {
      "cell_type": "code",
      "execution_count": null,
      "id": "c37e9d50",
      "metadata": {
        "id": "c37e9d50"
      },
      "outputs": [],
      "source": [
        "stop = set(stopwords.words('english'))\n",
        "punctuation = list(string.punctuation)\n",
        "stop.update(punctuation)\n",
        "#Removing punctiation marks\n",
        "def remove_punctuations(text):\n",
        "    if(type(text) == str): \n",
        "        return re.sub('\\[[^]]*\\]', '', text)\n",
        "    return text\n",
        "\n",
        "#Removing special characters\n",
        "def remove_specialchars(text):\n",
        "    if(type(text)== str):\n",
        "        return re.sub(\"[^a-zA-Z]\",\" \",text)\n",
        "    return text\n",
        "\n",
        "#Removal of stopwords and lemmatization\n",
        "def remove_stopwords_and_lemmatization(text):\n",
        "    if(type(text) == str):\n",
        "        final_text = []\n",
        "        text = text.lower()\n",
        "        text = nltk.word_tokenize(text)\n",
        "    \n",
        "        for word in text:\n",
        "            if word not in set(stopwords.words('english')):\n",
        "                lemma = nltk.WordNetLemmatizer()\n",
        "                word = lemma.lemmatize(word) \n",
        "                final_text.append(word)\n",
        "        return \" \".join(final_text)\n",
        "    return text\n",
        "\n",
        "\n",
        "#Total function\n",
        "def cleaning(text):\n",
        "    if(type(text) == str): text = emoji.demojize(text)\n",
        "    text = remove_punctuations(text)\n",
        "    text = remove_specialchars(text)\n",
        "    text = remove_stopwords_and_lemmatization(text)\n",
        "    text = remove_email(text)\n",
        "    return text\n",
        "def and_clean(li):\n",
        "    li_temp = []\n",
        "    for val in li:\n",
        "        li_temp.append(cleaning(val))\n",
        "    return li_temp"
      ]
    },
    {
      "cell_type": "code",
      "execution_count": null,
      "id": "de4b3da3",
      "metadata": {
        "id": "de4b3da3"
      },
      "outputs": [],
      "source": [
        "X = and_clean(X)"
      ]
    },
    {
      "cell_type": "code",
      "execution_count": null,
      "id": "9d4414a9",
      "metadata": {
        "id": "9d4414a9",
        "outputId": "ff9cad1c-3236-4192-92b2-03617c1a5fbb"
      },
      "outputs": [
        {
          "name": "stdout",
          "output_type": "stream",
          "text": [
            "3468 (3468,)\n"
          ]
        }
      ],
      "source": [
        "print(len(X),Y.shape)"
      ]
    },
    {
      "cell_type": "markdown",
      "id": "110343ed",
      "metadata": {
        "id": "110343ed"
      },
      "source": [
        "# TDIDF"
      ]
    },
    {
      "cell_type": "code",
      "execution_count": null,
      "id": "3d9f3f88",
      "metadata": {
        "id": "3d9f3f88"
      },
      "outputs": [],
      "source": [
        "# vectorizing the data with maximum of 5000 features\n",
        "from sklearn.feature_extraction.text import TfidfVectorizer\n",
        "from sklearn.feature_selection import SelectKBest,chi2\n",
        "def convert_to_tfidf(X,Y):\n",
        "    tv = TfidfVectorizer(max_features = 5000)\n",
        "\n",
        "    features = tv.fit_transform(X).toarray()\n",
        "    selector = SelectKBest(chi2,k=350)# prend le test utilié dans le premier parametre et le nombre des variables qu'on veut les obtenir dans la deuxieme parametre\n",
        "    features = selector.fit_transform(features,Y)#\n",
        "    return features"
      ]
    },
    {
      "cell_type": "code",
      "execution_count": null,
      "id": "4313112f",
      "metadata": {
        "id": "4313112f",
        "outputId": "c197d7f9-cc00-4d2d-fbab-35be6380bb31"
      },
      "outputs": [
        {
          "name": "stdout",
          "output_type": "stream",
          "text": [
            "(3468, 350) (3468,)\n"
          ]
        }
      ],
      "source": [
        "features = convert_to_tfidf(X,Y)\n",
        "print(features.shape,Y.shape)"
      ]
    },
    {
      "cell_type": "markdown",
      "id": "ef070e41",
      "metadata": {
        "id": "ef070e41"
      },
      "source": [
        "# word to vec"
      ]
    },
    {
      "cell_type": "code",
      "execution_count": null,
      "id": "4407eb34",
      "metadata": {
        "id": "4407eb34"
      },
      "outputs": [],
      "source": [
        "def getWords(X):\n",
        "    words = []\n",
        "    for i in X:\n",
        "        l = []\n",
        "        if(type(i) == str):\n",
        "            for j in i.split():\n",
        "                l.extend(i.split())\n",
        "                break\n",
        "            words.append(l) \n",
        "        else: words.append(l)\n",
        "    return words\n",
        "\n",
        "Xtr = getWords(X)"
      ]
    },
    {
      "cell_type": "code",
      "execution_count": null,
      "id": "ad9e87bb",
      "metadata": {
        "id": "ad9e87bb",
        "outputId": "ad5ae41a-ba8d-476e-8b59-3e3fb4d1e8d6"
      },
      "outputs": [
        {
          "data": {
            "text/plain": [
              "3468"
            ]
          },
          "execution_count": 342,
          "metadata": {},
          "output_type": "execute_result"
        }
      ],
      "source": [
        "len(Xtr)"
      ]
    },
    {
      "cell_type": "code",
      "execution_count": null,
      "id": "83a51d19",
      "metadata": {
        "id": "83a51d19",
        "outputId": "79a8e306-18c8-4c88-921d-0586a658a489"
      },
      "outputs": [
        {
          "data": {
            "text/plain": [
              "(1436, 100)"
            ]
          },
          "execution_count": 344,
          "metadata": {},
          "output_type": "execute_result"
        }
      ],
      "source": [
        "import gensim\n",
        "model_to_vec = gensim.models.Word2Vec(Xtr,\n",
        "                 vector_size=100,\n",
        "                 # Size is the length of our vector.\n",
        "                )\n",
        "model_to_vec.wv.vectors.shape"
      ]
    },
    {
      "cell_type": "markdown",
      "id": "80f12d41",
      "metadata": {
        "id": "80f12d41"
      },
      "source": [
        "# Convert text to vector "
      ]
    },
    {
      "cell_type": "code",
      "execution_count": null,
      "id": "a5085636",
      "metadata": {
        "id": "a5085636"
      },
      "outputs": [],
      "source": [
        "class Sequencer():\n",
        "    \n",
        "    def __init__(self,\n",
        "                 all_words,\n",
        "                 max_words,\n",
        "                 seq_len,\n",
        "                 embedding_matrix\n",
        "                ):\n",
        "        \n",
        "        self.seq_len = seq_len\n",
        "        self.embed_matrix = embedding_matrix\n",
        "        \"\"\"\n",
        "        temp_vocab = Vocab which has all the unique words\n",
        "        self.vocab = Our last vocab which has only most used N words.\n",
        "    \n",
        "        \"\"\"\n",
        "        temp_vocab = list(set(all_words))\n",
        "        self.vocab = []\n",
        "        self.word_cnts = {}\n",
        "        \"\"\"\n",
        "        Now we'll create a hash map (dict) which includes words and their occurencies\n",
        "        \"\"\"\n",
        "        for word in temp_vocab:\n",
        "            # 0 does not have a meaning, you can add the word to the list\n",
        "            # or something different.\n",
        "            count = len([0 for w in all_words if w == word])\n",
        "            self.word_cnts[word] = count\n",
        "            counts = list(self.word_cnts.values())\n",
        "            indexes = list(range(len(counts)))\n",
        "        \n",
        "        # Now we'll sort counts and while sorting them also will sort indexes.\n",
        "        # We'll use those indexes to find most used N word.\n",
        "        cnt = 0\n",
        "        while cnt + 1 != len(counts):\n",
        "            cnt = 0\n",
        "            for i in range(len(counts)-1):\n",
        "                if counts[i] < counts[i+1]:\n",
        "                    counts[i+1],counts[i] = counts[i],counts[i+1]\n",
        "                    indexes[i],indexes[i+1] = indexes[i+1],indexes[i]\n",
        "                else:\n",
        "                    cnt += 1\n",
        "        \n",
        "        for ind in indexes[:max_words]:\n",
        "            self.vocab.append(temp_vocab[ind])\n",
        "                    \n",
        "    def textToVector(self,text):\n",
        "        # First we need to split the text into its tokens and learn the length\n",
        "        # If length is shorter than the max len we'll add some spaces (100D vectors which has only zero values)\n",
        "        # If it's longer than the max len we'll trim from the end.\n",
        "        tokens = text.split()\n",
        "        len_v = len(tokens)-1 if len(tokens) < self.seq_len else self.seq_len-1\n",
        "        vec = []\n",
        "        for tok in tokens[:len_v]:\n",
        "            try:\n",
        "                vec.append(self.embed_matrix[tok])\n",
        "            except Exception as E:\n",
        "                pass\n",
        "        \n",
        "        last_pieces = self.seq_len - len(vec)\n",
        "        for i in range(last_pieces):\n",
        "            vec.append(np.zeros(100,))\n",
        "        \n",
        "        return np.asarray(vec).flatten()\n",
        "                "
      ]
    },
    {
      "cell_type": "code",
      "execution_count": null,
      "id": "db85837b",
      "metadata": {
        "id": "db85837b"
      },
      "outputs": [],
      "source": [
        "sequencer = Sequencer(all_words = [token for seq in Xtr for token in seq],\n",
        "              max_words = 1500,\n",
        "              seq_len = 15,\n",
        "              embedding_matrix = model_to_vec.wv.vectors\n",
        "             )"
      ]
    },
    {
      "cell_type": "code",
      "execution_count": null,
      "id": "2202553a",
      "metadata": {
        "id": "2202553a",
        "outputId": "1a6c929a-8c55-4a71-b633-d8a3ce84b75c"
      },
      "outputs": [
        {
          "data": {
            "text/plain": [
              "array(['thing', 'got', 'college', ..., 'tartare', 'sauce',\n",
              "       'montypythonesquedisses'], dtype='<U28')"
            ]
          },
          "execution_count": 347,
          "metadata": {},
          "output_type": "execute_result"
        }
      ],
      "source": [
        "np.array([token for seq in Xtr for token in seq])"
      ]
    },
    {
      "cell_type": "code",
      "execution_count": null,
      "id": "c7078266",
      "metadata": {
        "id": "c7078266"
      },
      "outputs": [],
      "source": []
    },
    {
      "cell_type": "code",
      "execution_count": null,
      "id": "b98cedc7",
      "metadata": {
        "id": "b98cedc7",
        "outputId": "9138c1f0-1d91-4c8f-c3e7-0c4e671810e6"
      },
      "outputs": [
        {
          "name": "stdout",
          "output_type": "stream",
          "text": [
            "(3468, 1500)\n"
          ]
        }
      ],
      "source": [
        "# But before creating a PCA model using scikit-learn let's create\n",
        "# vectors for our each vector\n",
        "x_vecs = np.asarray([sequencer.textToVector(\" \".join(seq)) for seq in Xtr])\n",
        "print(x_vecs.shape)\n",
        "x_vecs = x_vecs**2"
      ]
    },
    {
      "cell_type": "code",
      "execution_count": null,
      "id": "69d115bb",
      "metadata": {
        "id": "69d115bb",
        "outputId": "71c9997a-5725-4e8a-f7a2-7fd1149d49c9"
      },
      "outputs": [
        {
          "data": {
            "text/plain": [
              "0"
            ]
          },
          "execution_count": 349,
          "metadata": {},
          "output_type": "execute_result"
        }
      ],
      "source": [
        "np.isnan(x_vecs).sum()"
      ]
    },
    {
      "cell_type": "markdown",
      "id": "65c2e9e9",
      "metadata": {
        "id": "65c2e9e9"
      },
      "source": [
        "# selection des variables"
      ]
    },
    {
      "cell_type": "code",
      "execution_count": null,
      "id": "f598a850",
      "metadata": {
        "id": "f598a850",
        "outputId": "889589b1-0422-4ae1-a02a-4f2167c009d8"
      },
      "outputs": [
        {
          "name": "stderr",
          "output_type": "stream",
          "text": [
            "C:\\Users\\Ibrahim\\anaconda3\\lib\\site-packages\\sklearn\\decomposition\\_pca.py:595: RuntimeWarning: invalid value encountered in true_divide\n",
            "  self.explained_variance_ratio_ = self.explained_variance_ / total_var.sum()\n"
          ]
        },
        {
          "data": {
            "text/plain": [
              "PCA(n_components=50)"
            ]
          },
          "execution_count": 350,
          "metadata": {},
          "output_type": "execute_result"
        }
      ],
      "source": [
        "from sklearn.decomposition import PCA\n",
        "pca_model = PCA(n_components=50)\n",
        "pca_model.fit(x_vecs)"
      ]
    },
    {
      "cell_type": "code",
      "execution_count": null,
      "id": "92fb0502",
      "metadata": {
        "id": "92fb0502",
        "outputId": "99fe4966-7e6a-41b0-f9ac-20ea209251c2"
      },
      "outputs": [
        {
          "data": {
            "text/plain": [
              "0"
            ]
          },
          "execution_count": 351,
          "metadata": {},
          "output_type": "execute_result"
        }
      ],
      "source": [
        "|x_comps = pca_model.transform(x_vecs)\n",
        "x_comps.shape\n",
        "np.isnan(x_comps).sum()"
      ]
    },
    {
      "cell_type": "code",
      "execution_count": null,
      "id": "4064aa1e",
      "metadata": {
        "id": "4064aa1e"
      },
      "outputs": [],
      "source": [
        "# getting training and testing data\n",
        "features = np.concatenate((features,x_comps),axis=1)\n",
        "features_train, features_test, labels_train, labels_test = train_test_split(features,Y, test_size = .05, random_state = 0)"
      ]
    },
    {
      "cell_type": "code",
      "execution_count": null,
      "id": "9c882ad9",
      "metadata": {
        "id": "9c882ad9",
        "outputId": "8d41ae7d-7a3c-48d5-96ae-857efca2b85d"
      },
      "outputs": [
        {
          "data": {
            "text/plain": [
              "(3468, 400)"
            ]
          },
          "execution_count": 353,
          "metadata": {},
          "output_type": "execute_result"
        }
      ],
      "source": [
        "features.shape"
      ]
    },
    {
      "cell_type": "code",
      "execution_count": null,
      "id": "9c47aceb",
      "metadata": {
        "id": "9c47aceb",
        "outputId": "c0aea49f-2523-4cca-a9da-2d1f8cafee61"
      },
      "outputs": [
        {
          "name": "stdout",
          "output_type": "stream",
          "text": [
            "SVM\n",
            "0.8384942319368549\n",
            "0.764367816091954\n",
            "Naive Bayes\n",
            "0.8491196114146934\n",
            "0.7931034482758621\n",
            "Logistic Regression\n",
            "0.7568306010928961\n",
            "0.735632183908046\n",
            "Random Forest Classifier\n",
            "0.9183363691560413\n",
            "0.7586206896551724\n"
          ]
        }
      ],
      "source": [
        "# model 1:-\n",
        "# Using linear support vector classifier\n",
        "lsvc = LinearSVC()\n",
        "# training the model\n",
        "lsvc.fit(features_train, labels_train)\n",
        "# getting the score of train and test data\n",
        "print(\"SVM\")\n",
        "print(lsvc.score(features_train, labels_train)) # 90.93\n",
        "print(lsvc.score(features_test, labels_test))   # 83.75\n",
        "# model 2:-\n",
        "# Using Gaussuan Naive Bayes\n",
        "print(\"Naive Bayes\")\n",
        "gnb = GaussianNB()\n",
        "gnb.fit(features_train, labels_train)\n",
        "print(gnb.score(features_train, labels_train))  # 78.86\n",
        "print(gnb.score(features_test, labels_test))    # 73.80\n",
        "# model 3:-\n",
        "# Logistic Regression\n",
        "print(\"Logistic Regression\")\n",
        "lr = LogisticRegression()\n",
        "lr.fit(features_train, labels_train)\n",
        "print(lr.score(features_train, labels_train))   # 88.16\n",
        "print(lr.score(features_test, labels_test))     # 83.08\n",
        "# model 4:-\n",
        "# Random Forest Classifier\n",
        "print(\"Random Forest Classifier\")\n",
        "rfc = RandomForestClassifier(n_estimators = 10, random_state = 0)\n",
        "rfc.fit(features_train, labels_train)\n",
        "print(rfc.score(features_train, labels_train))  # 98.82\n",
        "print(rfc.score(features_test, labels_test))    # 79.71"
      ]
    },
    {
      "cell_type": "code",
      "execution_count": null,
      "id": "f24c01db",
      "metadata": {
        "id": "f24c01db",
        "outputId": "bb5294aa-45e9-4411-ae95-1c4814b74f12"
      },
      "outputs": [
        {
          "name": "stdout",
          "output_type": "stream",
          "text": [
            "accuracy: 0.7931034482758621\n",
            "f1-score:  0.3571428571428571\n"
          ]
        },
        {
          "data": {
            "image/png": "[encoded data removed]",
            "text/plain": [
              "<Figure size 432x288 with 2 Axes>"
            ]
          },
          "metadata": {
            "needs_background": "light"
          },
          "output_type": "display_data"
        }
      ],
      "source": [
        "import seaborn as sns\n",
        "y_pred = gnb.predict(features_test)\n",
        "print(\"accuracy:\",accuracy_score(labels_test,y_pred))\n",
        "sns.heatmap(confusion_matrix(labels_test,y_pred),annot=True,fmt='d')\n",
        "print(\"f1-score: \",f1_score(labels_test,y_pred))"
      ]
    },
    {
      "cell_type": "markdown",
      "id": "05532581",
      "metadata": {
        "id": "05532581"
      },
      "source": [
        "# Ameliorer "
      ]
    },
    {
      "cell_type": "code",
      "execution_count": null,
      "id": "b32f0745",
      "metadata": {
        "id": "b32f0745",
        "outputId": "5c7b74ea-7f72-4f0d-93d0-8975f36986e9"
      },
      "outputs": [
        {
          "name": "stdout",
          "output_type": "stream",
          "text": [
            "LinearSVC 0.764367816091954\n",
            "GaussianNB 0.7931034482758621\n",
            "RandomForestClassifier 0.7586206896551724\n",
            "VotingClassifier 0.7701149425287356\n"
          ]
        }
      ],
      "source": [
        "from sklearn.ensemble import VotingClassifier# technique simple de vote\n",
        "\n",
        "model4 = VotingClassifier([\n",
        "    (\"svm\",lsvc),\n",
        "        (\"naif\",gnb),\n",
        "        (\"forest\",rfc)\n",
        "        ],voting='hard')\n",
        "# voting = (\"hard voting\":vote sur les predictions ,\"soft voting\": vote sur les probabilités de chaque classe) \n",
        "for model in (lsvc,gnb,rfc,model4):\n",
        "    model.fit(features_train,labels_train)\n",
        "    print(model.__class__.__name__,model.score(features_test,labels_test))"
      ]
    },
    {
      "cell_type": "code",
      "execution_count": null,
      "id": "cddb7f7d",
      "metadata": {
        "id": "cddb7f7d",
        "outputId": "5f255424-5716-4eeb-b960-323a33a70677"
      },
      "outputs": [
        {
          "name": "stdout",
          "output_type": "stream",
          "text": [
            "f1-score:  0.23076923076923078\n"
          ]
        },
        {
          "data": {
            "text/plain": [
              "<AxesSubplot:>"
            ]
          },
          "execution_count": 361,
          "metadata": {},
          "output_type": "execute_result"
        },
        {
          "data": {
            "image/png": "[encoded data removed]",
            "text/plain": [
              "<Figure size 432x288 with 2 Axes>"
            ]
          },
          "metadata": {
            "needs_background": "light"
          },
          "output_type": "display_data"
        }
      ],
      "source": [
        "y_pred = model4.predict(features_test)\n",
        "print(\"f1-score: \",f1_score(labels_test,y_pred))\n",
        "sns.heatmap(confusion_matrix(labels_test,y_pred),annot=True,fmt='d')"
      ]
    },
    {
      "cell_type": "code",
      "execution_count": null,
      "id": "cfa8d85d",
      "metadata": {
        "id": "cfa8d85d",
        "outputId": "99a8e271-e19e-41af-fa1c-283127e4997c"
      },
      "outputs": [
        {
          "name": "stdout",
          "output_type": "stream",
          "text": [
            "f1-score 0.3728813559322034\n"
          ]
        }
      ],
      "source": [
        "# Stacking \n",
        "from sklearn.ensemble import StackingClassifier\n",
        "from sklearn.neighbors import KNeighborsClassifier\n",
        "from sklearn.svm import SVC\n",
        "model = StackingClassifier([\n",
        "        (\"svm\",lsvc),\n",
        "        (\"forest\",gnb),\n",
        "    (\"model_jdid\",rfc)\n",
        "        ],final_estimator=SVC())# final_estimateur c'est l'estimateur qui va tester ceux qui ont raisont et ceux qui n'ont pas raison et predire la resultat final\n",
        "model.fit(features_train,labels_train)\n",
        "model.score(features_test,labels_test)\n",
        "print(\"f1-score\",f1_score(labels_test,model.predict(features_test)))"
      ]
    },
    {
      "cell_type": "code",
      "execution_count": null,
      "id": "ae40463f",
      "metadata": {
        "id": "ae40463f",
        "outputId": "7765ca4d-2659-4113-bc8a-522e8c43c05d"
      },
      "outputs": [
        {
          "name": "stdout",
          "output_type": "stream",
          "text": [
            "accuracy train:  0.8661202185792349\n"
          ]
        },
        {
          "data": {
            "text/plain": [
              "<AxesSubplot:>"
            ]
          },
          "execution_count": 367,
          "metadata": {},
          "output_type": "execute_result"
        },
        {
          "data": {
            "image/png": "[encoded data removed]",
            "text/plain": [
              "<Figure size 432x288 with 2 Axes>"
            ]
          },
          "metadata": {
            "needs_background": "light"
          },
          "output_type": "display_data"
        }
      ],
      "source": [
        "y_pred = model.predict(features_train)\n",
        "print(\"accuracy train: \",accuracy_score(labels_train,y_pred))\n",
        "sns.heatmap(confusion_matrix(labels_train,y_pred),annot=True,fmt='d')"
      ]
    },
    {
      "cell_type": "code",
      "execution_count": null,
      "id": "4845b68d",
      "metadata": {
        "id": "4845b68d",
        "outputId": "659332da-b55e-4c23-ba3e-527639a1df6e"
      },
      "outputs": [
        {
          "data": {
            "text/plain": [
              "0.6388206388206388"
            ]
          },
          "execution_count": 368,
          "metadata": {},
          "output_type": "execute_result"
        }
      ],
      "source": [
        "f1_score(labels_train,y_pred)"
      ]
    },
    {
      "cell_type": "markdown",
      "id": "b59ad2f8",
      "metadata": {
        "id": "b59ad2f8"
      },
      "source": [
        "# Data set de test "
      ]
    },
    {
      "cell_type": "code",
      "execution_count": null,
      "id": "ea047efd",
      "metadata": {
        "id": "ea047efd",
        "outputId": "7edc2ba9-3581-4702-f654-c571db1f2f1b"
      },
      "outputs": [
        {
          "data": {
            "text/html": [
              "<div>\n",
              "<style scoped>\n",
              "    .dataframe tbody tr th:only-of-type {\n",
              "        vertical-align: middle;\n",
              "    }\n",
              "\n",
              "    .dataframe tbody tr th {\n",
              "        vertical-align: top;\n",
              "    }\n",
              "\n",
              "    .dataframe thead th {\n",
              "        text-align: right;\n",
              "    }\n",
              "</style>\n",
              "<table border=\"1\" class=\"dataframe\">\n",
              "  <thead>\n",
              "    <tr style=\"text-align: right;\">\n",
              "      <th></th>\n",
              "      <th>text</th>\n",
              "      <th>sarcastic</th>\n",
              "    </tr>\n",
              "  </thead>\n",
              "  <tbody>\n",
              "    <tr>\n",
              "      <th>0</th>\n",
              "      <td>Size on the the Toulouse team, That pack is mo...</td>\n",
              "      <td>0</td>\n",
              "    </tr>\n",
              "    <tr>\n",
              "      <th>1</th>\n",
              "      <td>Pinball!</td>\n",
              "      <td>0</td>\n",
              "    </tr>\n",
              "    <tr>\n",
              "      <th>2</th>\n",
              "      <td>So the Scottish Government want people to get ...</td>\n",
              "      <td>1</td>\n",
              "    </tr>\n",
              "    <tr>\n",
              "      <th>3</th>\n",
              "      <td>villainous pro tip : change the device name on...</td>\n",
              "      <td>0</td>\n",
              "    </tr>\n",
              "    <tr>\n",
              "      <th>4</th>\n",
              "      <td>I would date any of these men 🥺</td>\n",
              "      <td>0</td>\n",
              "    </tr>\n",
              "  </tbody>\n",
              "</table>\n",
              "</div>"
            ],
            "text/plain": [
              "                                                text  sarcastic\n",
              "0  Size on the the Toulouse team, That pack is mo...          0\n",
              "1                                           Pinball!          0\n",
              "2  So the Scottish Government want people to get ...          1\n",
              "3  villainous pro tip : change the device name on...          0\n",
              "4                    I would date any of these men 🥺          0"
            ]
          },
          "execution_count": 369,
          "metadata": {},
          "output_type": "execute_result"
        }
      ],
      "source": [
        "data_test = pd.read_csv(\"/content/drive/MyDrive/Competition/Web Mining/Competition 1-december/English_data/task_A_En_test.csv\")\n",
        "data_test.head()"
      ]
    },
    {
      "cell_type": "code",
      "execution_count": null,
      "id": "601df324",
      "metadata": {
        "id": "601df324"
      },
      "outputs": [],
      "source": [
        "data_test[\"text\"] = data_test[\"text\"].replace('!','')\n",
        "data_test[\"text\"] = data_test[\"text\"].replace('@','')\n",
        "data_test[\"text\"] = data_test[\"text\"].replace('\"','')\n",
        "data_test[\"text\"] = data_test[\"text\"].replace('?','')\n",
        "data_test[\"text\"] = data_test[\"text\"].replace('\\\"','')\n",
        "data_test[\"text\"] = data_test[\"text\"].replace('\\\\_(ツ)_/','')\n",
        "\n",
        "X_test = list(data_test[\"text\"])\n",
        "Y_test= np.array(list(data_test[\"sarcastic\"]))"
      ]
    },
    {
      "cell_type": "code",
      "execution_count": null,
      "id": "d680b18e",
      "metadata": {
        "id": "d680b18e"
      },
      "outputs": [],
      "source": [
        "X_test = and_clean(X_test)"
      ]
    },
    {
      "cell_type": "code",
      "execution_count": null,
      "id": "53b65906",
      "metadata": {
        "id": "53b65906"
      },
      "outputs": [],
      "source": [
        "features_test = convert_to_tfidf(X_test,Y_test)"
      ]
    },
    {
      "cell_type": "code",
      "execution_count": null,
      "id": "5f07e6bc",
      "metadata": {
        "id": "5f07e6bc",
        "outputId": "5d3617a3-2ed6-436e-90b2-7602e1777d35"
      },
      "outputs": [
        {
          "name": "stdout",
          "output_type": "stream",
          "text": [
            "(3468, 1500)\n"
          ]
        }
      ],
      "source": [
        "x_vecs_test = np.asarray([sequencer.textToVector(\" \".join(seq)) for seq in X_test])\n",
        "print(x_vecs.shape)\n",
        "x_vecs_test = x_vecs_test**2"
      ]
    },
    {
      "cell_type": "code",
      "execution_count": null,
      "id": "e5e20b09",
      "metadata": {
        "id": "e5e20b09"
      },
      "outputs": [],
      "source": [
        "x_comps_test = pca_model.transform(x_vecs_test)"
      ]
    },
    {
      "cell_type": "code",
      "execution_count": null,
      "id": "cb075c1e",
      "metadata": {
        "id": "cb075c1e"
      },
      "outputs": [],
      "source": [
        "features_test = np.concatenate((features_test,x_comps_test),axis=1)"
      ]
    },
    {
      "cell_type": "code",
      "execution_count": null,
      "id": "8b15dea3",
      "metadata": {
        "id": "8b15dea3",
        "outputId": "45d8b2a9-3178-42c8-9acd-28e43440efd6"
      },
      "outputs": [
        {
          "data": {
            "text/plain": [
              "(1400, 50)"
            ]
          },
          "execution_count": 376,
          "metadata": {},
          "output_type": "execute_result"
        }
      ],
      "source": [
        "x_comps_test.shape"
      ]
    },
    {
      "cell_type": "code",
      "execution_count": null,
      "id": "b658e9b0",
      "metadata": {
        "id": "b658e9b0",
        "outputId": "3ea13897-22f7-40a8-c52e-9acbedcaa444"
      },
      "outputs": [
        {
          "name": "stdout",
          "output_type": "stream",
          "text": [
            "Accuracy 0.9178571428571428\n"
          ]
        },
        {
          "data": {
            "text/plain": [
              "<AxesSubplot:>"
            ]
          },
          "execution_count": 377,
          "metadata": {},
          "output_type": "execute_result"
        },
        {
          "data": {
            "image/png": "[encoded data removed]",
            "text/plain": [
              "<Figure size 432x288 with 2 Axes>"
            ]
          },
          "metadata": {
            "needs_background": "light"
          },
          "output_type": "display_data"
        }
      ],
      "source": [
        "y_pred = lsvc.predict(features_test)\n",
        "print(\"Accuracy\",accuracy_score(Y_test,y_pred))\n",
        "sns.heatmap(confusion_matrix(Y_test,y_pred),annot=True,fmt='d')"
      ]
    },
    {
      "cell_type": "code",
      "execution_count": null,
      "id": "f8e262a8",
      "metadata": {
        "id": "f8e262a8",
        "outputId": "9e5768bc-021e-484a-c21a-ff3f96def754"
      },
      "outputs": [
        {
          "name": "stdout",
          "output_type": "stream",
          "text": [
            "f1-score:  0.7306791569086651\n"
          ]
        }
      ],
      "source": [
        "print(\"f1-score: \",f1_score(Y_test,y_pred))"
      ]
    },
    {
      "cell_type": "code",
      "execution_count": null,
      "id": "f414b280",
      "metadata": {
        "id": "f414b280",
        "outputId": "d41fd3ae-a363-4f4f-9297-a0b7a3c19f7b"
      },
      "outputs": [
        {
          "name": "stdout",
          "output_type": "stream",
          "text": [
            "              precision    recall  f1-score   support\n",
            "\n",
            "           0       0.96      0.94      0.95      1200\n",
            "           1       0.69      0.78      0.73       200\n",
            "\n",
            "    accuracy                           0.92      1400\n",
            "   macro avg       0.82      0.86      0.84      1400\n",
            "weighted avg       0.92      0.92      0.92      1400\n",
            "\n"
          ]
        }
      ],
      "source": [
        "print(classification_report(Y_test,y_pred))"
      ]
    },
    {
      "cell_type": "code",
      "execution_count": null,
      "id": "a6493596",
      "metadata": {
        "id": "a6493596"
      },
      "outputs": [],
      "source": []
    }
  ],
  "metadata": {
    "kernelspec": {
      "display_name": "Python 3 (ipykernel)",
      "language": "python",
      "name": "python3"
    },
    "language_info": {
      "codemirror_mode": {
        "name": "ipython",
        "version": 3
      },
      "file_extension": ".py",
      "mimetype": "text/x-python",
      "name": "python",
      "nbconvert_exporter": "python",
      "pygments_lexer": "ipython3",
      "version": "3.9.12"
    },
    "colab": {
      "provenance": []
    }
  },
  "nbformat": 4,
  "nbformat_minor": 5
}